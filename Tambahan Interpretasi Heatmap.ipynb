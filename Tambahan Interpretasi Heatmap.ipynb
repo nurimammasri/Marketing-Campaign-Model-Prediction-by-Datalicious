{
 "cells": [
  {
   "cell_type": "markdown",
   "id": "4e99af3a",
   "metadata": {},
   "source": [
    "Korelasi kolom Respon dengan yg lain\n",
    "- Korelasi kolom **Response** dengan kolom **AcceptedCmp5** adalah yang paling tinggi dibandingkan kolom campaign sebelumnya.\n",
    "- Produk yang ditawarkan di campaign terakhir (kolom **Response**) agak mirip dengan campaign ke 5 (**AcceptedCmp5**)\n",
    "- Customer cenderung lebih tertarik dengan Wines dan Meat yang ditunjukan dengan korelasi kolom **Response** dengan kolom **MntWines** dan **MntMeatProducts**\n",
    "- Customer juga lebih menyukai pembelian dengan cara Katalog (kolom **NumCatalogPurchases**) dibandingkan yang lain.\n",
    "- Korelasi kolom **Respons**e dan kolom **Recency** menunjukan bahwa perilaku customer yang merespon cenderung customer yang sudah lama tidak membeli.\n",
    "- **MntMeatProduct** berkorelasi positif cukup besar dengan **NumCatalogPurchases**, bisa dikatakan sebagian besar pembelian meat product dilakukan melalui catalog (korelasinya 0.72, kayanya cenderung redundan mas kayanya dihapus aja)\n",
    "\n",
    "Korelasi Antar Feature\n",
    "- Customer yang membeli Wines (**MntWines**) cenderung akan membeli Meat (**MntMeatProducts**) dan lebih suka membeli langsung di **Store**, **Catalog** dan **Website**.\n",
    "- Beberapa kombinasi **Fruits** yang sangat disukai customer antara lain **Fruits** dan **Meat**, **Fruits** dan **Fish**, atau **Fruits** dan **Sweet**. Customer juga lebih nyaman membeli langsung di **Store** atau melalui **Catalog** dibandingkan dengan menggunakan Website.\n",
    "- Kombinasi 5 Kolom product cukup tinggi nilai korelasinya. Oleh karena itu, customer cenderung suka membeli lebih dari 1 product dalam sekali berbelanja.\n",
    "- Produk **Wines** dan **Gold** lebih banyak dibeli menggunakan **ebsite**. Sedangkan **Fruits**, **Meat**, **Fish** dan **Sweet** dibeli melalui **Store** maupun **Catalog**.\n",
    "- Produk yang ditawarkan menggunakan **Deals** (potongan harga) belum terlalu menarik minta customer karena korelasi dengan kolom produk apapun sangat rendah.\n",
    "- Customer yang menggunakan **Deals** lebih banyak customer yang menggunakan **Website** untuk membeli barang/produk."
   ]
  },
  {
   "cell_type": "code",
   "execution_count": null,
   "id": "5ef0a2fd",
   "metadata": {},
   "outputs": [],
   "source": []
  }
 ],
 "metadata": {
  "kernelspec": {
   "display_name": "Python 3 (ipykernel)",
   "language": "python",
   "name": "python3"
  },
  "language_info": {
   "codemirror_mode": {
    "name": "ipython",
    "version": 3
   },
   "file_extension": ".py",
   "mimetype": "text/x-python",
   "name": "python",
   "nbconvert_exporter": "python",
   "pygments_lexer": "ipython3",
   "version": "3.9.13"
  }
 },
 "nbformat": 4,
 "nbformat_minor": 5
}
